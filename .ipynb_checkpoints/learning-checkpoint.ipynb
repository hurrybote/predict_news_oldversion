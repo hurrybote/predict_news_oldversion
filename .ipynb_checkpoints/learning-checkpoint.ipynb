{
 "cells": [
  {
   "cell_type": "code",
   "execution_count": 1,
   "metadata": {
    "collapsed": true
   },
   "outputs": [],
   "source": [
    "# -*- coding: utf-8 -*-\n",
    "\n",
    "from gensim import corpora, matutils\n",
    "import pandas as pd\n",
    "import MeCab\n",
    "import numpy as np\n",
    "from sklearn.ensemble import RandomForestClassifier\n",
    "from sklearn.model_selection import train_test_split\n",
    "from sklearn.model_selection import GridSearchCV\n",
    "from sklearn.metrics import classification_report\n",
    "from sklearn.metrics import accuracy_score\n",
    "from sklearn.preprocessing import MultiLabelBinarizer\n",
    "from sklearn.model_selection import cross_val_score\n",
    "\n",
    "\n",
    "def readCSV(file_pass, name, file_type):\n",
    "    df = pd.read_csv(file_pass+name+file_type, dtype={'label': 'str'}, encoding=\"utf-8\")\n",
    "    return df\n",
    "\n",
    "\n",
    "def sep(body):\n",
    "    mt = MeCab.Tagger('mecabrc')\n",
    "    mt.parse(\"\")\n",
    "    node = mt.parseToNode(str(body))\n",
    "    return getNouns(node)\n",
    "\n",
    "\n",
    "def getNouns(node):\n",
    "    words = []\n",
    "    word_stack = \"\"\n",
    "    while node:\n",
    "        noun = node.feature.split(\",\")\n",
    "        word = node.surface\n",
    "        if(checkNoun(noun)):\n",
    "            word_stack += word\n",
    "        if(word_stack != \"\" and noun[0] != '名詞'):\n",
    "            if(checkNum(word_stack)):\n",
    "                words.append(word_stack)\n",
    "            word_stack = \"\"\n",
    "        node = node.next\n",
    "#     words = \" \".join(words)\n",
    "    return words\n",
    "\n",
    "\n",
    "# 名詞のみを抽出\n",
    "def checkNoun(noun):\n",
    "    zyogai = ['副詞可能', '非自立', '代名詞', '助詞類接続']\n",
    "    if(noun[0] == '名詞'):\n",
    "        if(noun[1] in zyogai):\n",
    "            return False\n",
    "        else:\n",
    "            return True\n",
    "        \n",
    "    else:\n",
    "        return False\n",
    "\n",
    "\n",
    "# 12月 1.2%などの数字関連を省く\n",
    "def checkNum(word_stack):\n",
    "    mt = MeCab.Tagger()\n",
    "    mt.parse(\"\")\n",
    "\n",
    "    node = mt.parseToNode(word_stack)\n",
    "    while node:\n",
    "        noun = node.feature.split(\",\")\n",
    "        if(noun[1] == '数'):\n",
    "            return False\n",
    "        node = node.next\n",
    "\n",
    "    return True\n",
    "\n",
    "#ラベル付け\n",
    "def ch(cat_list):\n",
    "    cats = []\n",
    "    for cat, i in zip(cat_list, range(len(cat_list))):\n",
    "        if(cat == \"1\"):\n",
    "            cats.append(i)\n",
    "    if(cats == []):\n",
    "        #すべての要素が0の時にその他のラベルである13をあてる\n",
    "        cats.append(13)\n",
    "    return np.asarray(cats)\n"
   ]
  },
  {
   "cell_type": "code",
   "execution_count": 2,
   "metadata": {
    "collapsed": true
   },
   "outputs": [],
   "source": [
    "file_pass = \"./\"\n",
    "#3が自作関数での分割\n",
    "#4が予想材料ラベルの順番をただしたもの\n",
    "file_name = \"reuters_article4\"\n",
    "file_type = \".csv\"\n",
    "dict_list = []\n",
    "# print(dict_list)\n",
    "df = readCSV(file_pass, file_name, file_type)\n",
    "# print(df[\"label\"])\n",
    "body = []\n",
    "label_train = []\n",
    "# bodyに"
   ]
  },
  {
   "cell_type": "code",
   "execution_count": 3,
   "metadata": {
    "collapsed": true
   },
   "outputs": [],
   "source": [
    "# for b in df[\"body\"]:\n",
    "#     # [単語の配列, ラベル]の２次元配列を作る\n",
    "#     body.append(sep(b))\n",
    "    \n",
    "# body = [sep(b) for b in df[\"body\"]]\n",
    "body = [sep(row) for row in df[\"body\"]]"
   ]
  },
  {
   "cell_type": "code",
   "execution_count": 4,
   "metadata": {},
   "outputs": [
    {
     "name": "stdout",
     "output_type": "stream",
     "text": [
      "214094\n"
     ]
    }
   ],
   "source": [
    "print(len(body))"
   ]
  },
  {
   "cell_type": "code",
   "execution_count": 5,
   "metadata": {
    "collapsed": true
   },
   "outputs": [],
   "source": [
    "label_train = []\n",
    "for i in df[\"label\"]:\n",
    "    label_train.append(ch(i))"
   ]
  },
  {
   "cell_type": "code",
   "execution_count": 6,
   "metadata": {
    "collapsed": true,
    "scrolled": true
   },
   "outputs": [],
   "source": [
    "# print(label_train)\n",
    "label_train = MultiLabelBinarizer().fit_transform(label_train)\n"
   ]
  },
  {
   "cell_type": "code",
   "execution_count": 8,
   "metadata": {
    "collapsed": true
   },
   "outputs": [],
   "source": [
    "dictionary = corpora.Dictionary(body)\n",
    "dictionary.filter_extremes(no_below=20, no_above=0.4)\n",
    "# print(dictionary.token2id)\n",
    "# dictionary.save_as_text('word_dic.txt')"
   ]
  },
  {
   "cell_type": "code",
   "execution_count": 9,
   "metadata": {
    "collapsed": true
   },
   "outputs": [],
   "source": [
    "data_train = []\n",
    "# print(body)\n",
    "for b in body:\n",
    "    tmp = dictionary.doc2bow(b)\n",
    "    data_train.append(list(matutils.corpus2dense([tmp], num_terms=len(dictionary)).T[0]))\n",
    "    # print(dense)"
   ]
  },
  {
   "cell_type": "code",
   "execution_count": null,
   "metadata": {
    "collapsed": true
   },
   "outputs": [],
   "source": [
    "# 交差検定\n",
    "estimator = RandomForestClassifier(n_estimators=15, random_state=0)\n",
    "scores = cross_val_score(estimator, data_train, label_train, cv=5)\n",
    "print(scores)"
   ]
  },
  {
   "cell_type": "code",
   "execution_count": 10,
   "metadata": {},
   "outputs": [
    {
     "data": {
      "text/plain": [
       "RandomForestClassifier(bootstrap=True, class_weight=None, criterion='gini',\n",
       "            max_depth=None, max_features='auto', max_leaf_nodes=None,\n",
       "            min_impurity_decrease=0.0, min_impurity_split=None,\n",
       "            min_samples_leaf=1, min_samples_split=2,\n",
       "            min_weight_fraction_leaf=0.0, n_estimators=15, n_jobs=1,\n",
       "            oob_score=False, random_state=0, verbose=0, warm_start=False)"
      ]
     },
     "execution_count": 10,
     "metadata": {},
     "output_type": "execute_result"
    }
   ],
   "source": [
    "# len(label_train)\n",
    "data_train_s, data_test_s, label_train_s, label_test_s = train_test_split(data_train, label_train, test_size=0.4)\n",
    "\n",
    "# len(data_train_s)\n",
    "\n",
    "estimator = RandomForestClassifier(n_estimators=15, random_state=0)\n",
    "estimator.fit(data_train_s, label_train_s)"
   ]
  },
  {
   "cell_type": "code",
   "execution_count": 9,
   "metadata": {},
   "outputs": [
    {
     "name": "stdout",
     "output_type": "stream",
     "text": [
      "128456\n",
      "85638\n"
     ]
    }
   ],
   "source": [
    "print(len(data_train_s))\n",
    "print(len(data_test_s))"
   ]
  },
  {
   "cell_type": "code",
   "execution_count": 11,
   "metadata": {},
   "outputs": [
    {
     "name": "stdout",
     "output_type": "stream",
     "text": [
      "128456\n",
      "85638\n"
     ]
    }
   ],
   "source": [
    "print(len(data_train_s))\n",
    "print(len(data_test_s))"
   ]
  },
  {
   "cell_type": "code",
   "execution_count": 10,
   "metadata": {
    "scrolled": true
   },
   "outputs": [
    {
     "name": "stdout",
     "output_type": "stream",
     "text": [
      "0.8326148261\n"
     ]
    }
   ],
   "source": [
    "# y_train_pred = estimator.predict(data_train_s)\n",
    "# y_val_pred = estimator.predict(data_test_s)\n",
    "# trains_score = accuracy_score(label_train_s, y_train_pred)\n",
    "# val_score = accuracy_score(label_test_s, y_val_pred)\n",
    "# print(\"----学習用データで行ったスコア-----\")\n",
    "# print(trains_score)\n",
    "# print(\"----テストデータで行ったスコア----\")\n",
    "# print(val_score)\n",
    "print(estimator.score(data_test_s, label_test_s))"
   ]
  },
  {
   "cell_type": "code",
   "execution_count": 17,
   "metadata": {},
   "outputs": [
    {
     "name": "stdout",
     "output_type": "stream",
     "text": [
      "0.799236320325\n"
     ]
    }
   ],
   "source": [
    "print(estimator.score(data_test_s, label_test_s))"
   ]
  },
  {
   "cell_type": "code",
   "execution_count": null,
   "metadata": {
    "collapsed": true
   },
   "outputs": [],
   "source": [
    "# -------------重要語の抽出---------------\n",
    "\n",
    "\n"
   ]
  },
  {
   "cell_type": "code",
   "execution_count": 18,
   "metadata": {
    "collapsed": true
   },
   "outputs": [],
   "source": [
    "from sklearn.externals import joblib"
   ]
  },
  {
   "cell_type": "code",
   "execution_count": 19,
   "metadata": {},
   "outputs": [
    {
     "data": {
      "text/plain": [
       "['random2.pkl.cmp']"
      ]
     },
     "execution_count": 19,
     "metadata": {},
     "output_type": "execute_result"
    }
   ],
   "source": [
    "joblib.dump(estimator, 'random2.pkl.cmp', compress=True)"
   ]
  },
  {
   "cell_type": "code",
   "execution_count": 15,
   "metadata": {
    "collapsed": true
   },
   "outputs": [],
   "source": [
    "predict_data = estimator.predict(data_train)"
   ]
  },
  {
   "cell_type": "code",
   "execution_count": 29,
   "metadata": {
    "collapsed": true
   },
   "outputs": [],
   "source": [
    "predict_data2 = []\n",
    "for row in predict_data:\n",
    "    temp = []\n",
    "    for r in row[:-1]:\n",
    "        temp.append(r)\n",
    "    predict_data2.append(temp)"
   ]
  },
  {
   "cell_type": "code",
   "execution_count": 30,
   "metadata": {},
   "outputs": [
    {
     "name": "stdout",
     "output_type": "stream",
     "text": [
      "13\n"
     ]
    }
   ],
   "source": [
    "print(len(predict_data2[0]))"
   ]
  },
  {
   "cell_type": "code",
   "execution_count": 31,
   "metadata": {
    "collapsed": true
   },
   "outputs": [],
   "source": [
    "predict_label = []\n",
    "for row in predict_data2:\n",
    "    temp = \"\"\n",
    "    for r in row:\n",
    "        temp += str(int(r))\n",
    "    predict_label.append(temp)"
   ]
  },
  {
   "cell_type": "code",
   "execution_count": 32,
   "metadata": {},
   "outputs": [
    {
     "name": "stdout",
     "output_type": "stream",
     "text": [
      "0000000000000\n"
     ]
    }
   ],
   "source": [
    "print(predict_label[0])"
   ]
  },
  {
   "cell_type": "code",
   "execution_count": 34,
   "metadata": {
    "collapsed": true
   },
   "outputs": [],
   "source": [
    "df.to_csv(\"./dataset2.csv\")"
   ]
  },
  {
   "cell_type": "code",
   "execution_count": 12,
   "metadata": {
    "collapsed": true
   },
   "outputs": [],
   "source": [
    "y_train_pred = estimator.predict(data_train_s)\n",
    "y_test_pred = estimator.predict(data_test_s)\n",
    "# print(y_test_pred)"
   ]
  },
  {
   "cell_type": "code",
   "execution_count": 11,
   "metadata": {
    "collapsed": true
   },
   "outputs": [],
   "source": [
    "from sklearn.metrics import precision_score, recall_score, f1_score"
   ]
  },
  {
   "cell_type": "code",
   "execution_count": 10,
   "metadata": {},
   "outputs": [
    {
     "ename": "NameError",
     "evalue": "name 'precision_score' is not defined",
     "output_type": "error",
     "traceback": [
      "\u001b[0;31m---------------------------------------------------------------------------\u001b[0m",
      "\u001b[0;31mNameError\u001b[0m                                 Traceback (most recent call last)",
      "\u001b[0;32m<ipython-input-10-b6f25190e2f3>\u001b[0m in \u001b[0;36m<module>\u001b[0;34m()\u001b[0m\n\u001b[0;32m----> 1\u001b[0;31m \u001b[0mprint\u001b[0m\u001b[0;34m(\u001b[0m\u001b[0mprecision_score\u001b[0m\u001b[0;34m(\u001b[0m\u001b[0mdata_train\u001b[0m\u001b[0;34m,\u001b[0m \u001b[0mlabel_train\u001b[0m\u001b[0;34m,\u001b[0m \u001b[0maverage\u001b[0m\u001b[0;34m=\u001b[0m\u001b[0;34m'micro'\u001b[0m\u001b[0;34m)\u001b[0m\u001b[0;34m)\u001b[0m\u001b[0;34m\u001b[0m\u001b[0m\n\u001b[0m\u001b[1;32m      2\u001b[0m \u001b[0mprint\u001b[0m\u001b[0;34m(\u001b[0m\u001b[0mrecall_score\u001b[0m\u001b[0;34m(\u001b[0m\u001b[0mdata_train\u001b[0m\u001b[0;34m,\u001b[0m \u001b[0mlabel_train\u001b[0m\u001b[0;34m,\u001b[0m \u001b[0maverage\u001b[0m\u001b[0;34m=\u001b[0m\u001b[0;34m'micro'\u001b[0m\u001b[0;34m)\u001b[0m\u001b[0;34m)\u001b[0m\u001b[0;34m\u001b[0m\u001b[0m\n\u001b[1;32m      3\u001b[0m \u001b[0mprint\u001b[0m\u001b[0;34m(\u001b[0m\u001b[0mf1_score\u001b[0m\u001b[0;34m(\u001b[0m\u001b[0mdata_train\u001b[0m\u001b[0;34m,\u001b[0m \u001b[0mlabel_train\u001b[0m\u001b[0;34m,\u001b[0m \u001b[0maverage\u001b[0m\u001b[0;34m=\u001b[0m\u001b[0;34m'micro'\u001b[0m\u001b[0;34m)\u001b[0m\u001b[0;34m)\u001b[0m\u001b[0;34m\u001b[0m\u001b[0m\n\u001b[1;32m      4\u001b[0m \u001b[0mprint\u001b[0m\u001b[0;34m(\u001b[0m\u001b[0;34m'-'\u001b[0m\u001b[0;34m*\u001b[0m\u001b[0;36m40\u001b[0m\u001b[0;34m)\u001b[0m\u001b[0;34m\u001b[0m\u001b[0m\n\u001b[1;32m      5\u001b[0m \u001b[0mprint\u001b[0m\u001b[0;34m(\u001b[0m\u001b[0mprecision_score\u001b[0m\u001b[0;34m(\u001b[0m\u001b[0mdata_train\u001b[0m\u001b[0;34m,\u001b[0m \u001b[0mlabel_train\u001b[0m\u001b[0;34m,\u001b[0m \u001b[0maverage\u001b[0m\u001b[0;34m=\u001b[0m\u001b[0;34m'macro'\u001b[0m\u001b[0;34m)\u001b[0m\u001b[0;34m)\u001b[0m\u001b[0;34m\u001b[0m\u001b[0m\n",
      "\u001b[0;31mNameError\u001b[0m: name 'precision_score' is not defined"
     ]
    }
   ],
   "source": [
    "print(precision_score(data_train, label_train, average='micro'))\n",
    "print(recall_score(data_train, label_train, average='micro'))\n",
    "print(f1_score(data_train, label_train, average='micro'))\n",
    "print('-'*40)\n",
    "print(precision_score(data_train, label_train, average='macro'))\n",
    "print(recall_score(data_train, label_train, average='macro'))\n",
    "print(f1_score(data_train, label_train, average='macro'))"
   ]
  },
  {
   "cell_type": "code",
   "execution_count": 14,
   "metadata": {},
   "outputs": [
    {
     "name": "stdout",
     "output_type": "stream",
     "text": [
      "0.90166496933\n",
      "0.796756134568\n",
      "0.845970524024\n",
      "----------------------------------------\n",
      "0.95790882871\n",
      "0.61074920801\n",
      "0.732816302154\n"
     ]
    }
   ],
   "source": [
    "print(precision_score(label_test_s, y_test_pred, average='micro'))\n",
    "print(recall_score(label_test_s, y_test_pred, average='micro'))\n",
    "print(f1_score(label_test_s, y_test_pred, average='micro'))\n",
    "print('-'*40)\n",
    "print(precision_score(label_test_s, y_test_pred, average='macro'))\n",
    "print(recall_score(label_test_s, y_test_pred, average='macro'))\n",
    "print(f1_score(label_test_s, y_test_pred, average='macro'))"
   ]
  },
  {
   "cell_type": "code",
   "execution_count": 29,
   "metadata": {},
   "outputs": [
    {
     "ename": "IndentationError",
     "evalue": "unexpected indent (<ipython-input-29-b4672c2acb47>, line 18)",
     "output_type": "error",
     "traceback": [
      "\u001b[0;36m  File \u001b[0;32m\"<ipython-input-29-b4672c2acb47>\"\u001b[0;36m, line \u001b[0;32m18\u001b[0m\n\u001b[0;31m    for row in data:\u001b[0m\n\u001b[0m    ^\u001b[0m\n\u001b[0;31mIndentationError\u001b[0m\u001b[0;31m:\u001b[0m unexpected indent\n"
     ]
    }
   ],
   "source": [
    "## ただ足してるだけで，複数の予想材料の時を考慮していない\n",
    "def sum(data):\n",
    "    total = [0,0,0,0,0,0,0,0,0,0,0,0,0,0]\n",
    "    for row in data:\n",
    "        for r, i in zip(row, range(len(row))):\n",
    "            total[i] += int(r)\n",
    "            \n",
    "    return total\n",
    "\n",
    "def get_labels(data):\n",
    "    #複数の予想材料, 予想材料なし\n",
    "    \n",
    "    num_of_articles = [0,0,0,0,0,0,0,0,0,0,0,0,0,0,0]\n",
    "    \n",
    "    ## 複数の予想材料は考えない\n",
    "\n",
    "#         print(label_sets_fix)\n",
    "    for row in data:\n",
    "        article_label_set = \"\"\n",
    "        for r, i in zip(row, range(len(row)-1)):\n",
    "            article_label_set += str(int(r)) \n",
    "        for i in range(13):\n",
    "            label_sets = [\"0\",\"0\",\"0\",\"0\",\"0\",\"0\",\"0\",\"0\",\"0\",\"0\",\"0\",\"0\",\"0\"]\n",
    "            label_sets[i] = \"1\"\n",
    "            label_sets_fix = \"\".join(label_sets)\n",
    "\n",
    "            if(label_sets_fix == article_label_set):\n",
    "                num_of_articles[i] += 1\n",
    "#             print(\"--\")\n",
    "#             print(num_of_articles)\n",
    "    \n",
    "#     for row in data:\n",
    "# #         print(num_of_articles)\n",
    "# #         print(row)\n",
    "#         flag = 0\n",
    "#         for r, i in zip(row, range(len(row))):\n",
    "#                 flag += int(r)\n",
    "# #         print(flag)\n",
    "#         if(flag < 2):\n",
    "#             if(flag == 0):\n",
    "#                 num_of_articles[14]+=1\n",
    "#             else:\n",
    "#                 for r, i in zip(row, range(len(row))):\n",
    "#                         num_of_articles[i] += 1\n",
    "#         else:\n",
    "#             num_of_articles[13]+=1\n",
    "            \n",
    "#     print(num_of_articles)\n",
    "    \n",
    "    return num_of_articles"
   ]
  },
  {
   "cell_type": "code",
   "execution_count": 25,
   "metadata": {},
   "outputs": [],
   "source": [
    "pred = get_labels(y_test_pred)\n",
    "true = get_labels(label_test_s)"
   ]
  },
  {
   "cell_type": "code",
   "execution_count": 18,
   "metadata": {
    "collapsed": true
   },
   "outputs": [],
   "source": [
    "pred = sum(y_test_pred)\n",
    "true = sum(label_test_s)"
   ]
  },
  {
   "cell_type": "code",
   "execution_count": 26,
   "metadata": {},
   "outputs": [
    {
     "name": "stdout",
     "output_type": "stream",
     "text": [
      "[0, 0, 0, 0, 0, 0, 0, 0, 0, 0, 0, 0, 32771, 0, 0]\n",
      "[0, 0, 0, 0, 0, 0, 0, 0, 0, 0, 0, 0, 33757, 0, 0]\n"
     ]
    }
   ],
   "source": [
    "print(pred)\n",
    "print(true)"
   ]
  },
  {
   "cell_type": "code",
   "execution_count": 19,
   "metadata": {},
   "outputs": [
    {
     "name": "stdout",
     "output_type": "stream",
     "text": [
      "[7128, 779, 1937, 699, 327, 1209, 456, 46, 1948, 20585, 1464, 210, 708, 47379]\n",
      "[10486, 1057, 3364, 1261, 555, 1802, 942, 133, 3441, 25860, 2356, 288, 876, 43296]\n"
     ]
    }
   ],
   "source": [
    "print(pred)\n",
    "print(true)"
   ]
  },
  {
   "cell_type": "code",
   "execution_count": 68,
   "metadata": {},
   "outputs": [
    {
     "name": "stdout",
     "output_type": "stream",
     "text": [
      "<class 'int'>\n"
     ]
    }
   ],
   "source": [
    "print(type(int(pred[1])))"
   ]
  },
  {
   "cell_type": "code",
   "execution_count": 18,
   "metadata": {
    "collapsed": true
   },
   "outputs": [],
   "source": [
    "\n",
    "hist_pred = np.array([])\n",
    "for i in range(len(pred)-1):\n",
    "    for j in range(int(pred[i])):\n",
    "        hist_pred = np.append(hist_pred, i+1)"
   ]
  },
  {
   "cell_type": "code",
   "execution_count": 19,
   "metadata": {
    "collapsed": true
   },
   "outputs": [],
   "source": [
    "import matplotlib.pyplot as plt"
   ]
  },
  {
   "cell_type": "code",
   "execution_count": 32,
   "metadata": {
    "collapsed": true
   },
   "outputs": [],
   "source": [
    "X = np.arange(len(pred)-1)"
   ]
  },
  {
   "cell_type": "code",
   "execution_count": 33,
   "metadata": {},
   "outputs": [
    {
     "data": {
      "text/plain": [
       "<Container object of 13 artists>"
      ]
     },
     "execution_count": 33,
     "metadata": {},
     "output_type": "execute_result"
    }
   ],
   "source": [
    "plt.bar(X, pred[:-1], label='pred', color=\"blue\", align=\"center\")"
   ]
  },
  {
   "cell_type": "code",
   "execution_count": 34,
   "metadata": {},
   "outputs": [
    {
     "data": {
      "text/plain": [
       "<Container object of 13 artists>"
      ]
     },
     "execution_count": 34,
     "metadata": {},
     "output_type": "execute_result"
    }
   ],
   "source": [
    "plt.bar(X+0.4, true[:-1], label='true', color=\"red\", align=\"center\")"
   ]
  },
  {
   "cell_type": "code",
   "execution_count": 35,
   "metadata": {},
   "outputs": [
    {
     "data": {
      "text/plain": [
       "<matplotlib.legend.Legend at 0x1e19fa1390>"
      ]
     },
     "execution_count": 35,
     "metadata": {},
     "output_type": "execute_result"
    }
   ],
   "source": [
    "plt.legend(loc=2)"
   ]
  },
  {
   "cell_type": "code",
   "execution_count": 36,
   "metadata": {
    "scrolled": true
   },
   "outputs": [
    {
     "data": {
      "image/png": "[encoded data removed]",
      "text/plain": [
       "<matplotlib.figure.Figure at 0x1e19f99860>"
      ]
     },
     "metadata": {},
     "output_type": "display_data"
    }
   ],
   "source": [
    "plt.show()"
   ]
  },
  {
   "cell_type": "code",
   "execution_count": 10,
   "metadata": {
    "collapsed": true
   },
   "outputs": [],
   "source": [
    "classifier = joblib.load('random.pkl.cmp')"
   ]
  },
  {
   "cell_type": "code",
   "execution_count": null,
   "metadata": {
    "collapsed": true
   },
   "outputs": [],
   "source": [
    "importance = estimator.feature_importances_\n",
    "print(importance)"
   ]
  },
  {
   "cell_type": "code",
   "execution_count": null,
   "metadata": {
    "collapsed": true
   },
   "outputs": [],
   "source": []
  }
 ],
 "metadata": {
  "kernelspec": {
   "display_name": "Python 3",
   "language": "python",
   "name": "python3"
  },
  "language_info": {
   "codemirror_mode": {
    "name": "ipython",
    "version": 3
   },
   "file_extension": ".py",
   "mimetype": "text/x-python",
   "name": "python",
   "nbconvert_exporter": "python",
   "pygments_lexer": "ipython3",
   "version": "3.5.4"
  }
 },
 "nbformat": 4,
 "nbformat_minor": 1
}
