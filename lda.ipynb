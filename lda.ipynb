{
 "cells": [
  {
   "cell_type": "code",
   "execution_count": 1,
   "metadata": {
    "collapsed": true
   },
   "outputs": [],
   "source": [
    "from sklearn.decomposition import LatentDirichletAllocation\n",
    "from sklearn.datasets import fetch_20newsgroups\n",
    "from sklearn.feature_extraction.text import TfidfVectorizer, CountVectorizer\n",
    "import pandas as pd\n",
    "import MeCab\n",
    "import numpy as np"
   ]
  },
  {
   "cell_type": "code",
   "execution_count": 2,
   "metadata": {
    "collapsed": true
   },
   "outputs": [],
   "source": [
    "def readCSV(file_pass, name, file_type):\n",
    "    df = pd.read_csv(file_pass+name+file_type, dtype={'label': 'str'}, encoding=\"utf-8\")\n",
    "    return df\n",
    "\n",
    "def sep(body):\n",
    "    mt = MeCab.Tagger('mecabrc')\n",
    "    mt.parse(\"\")\n",
    "    node = mt.parseToNode(str(body))\n",
    "    return getNouns(node)\n",
    "\n",
    "# 名詞のみを抽出\n",
    "def checkNoun(noun):\n",
    "    zyogai = ['副詞可能', \"非自立\", \"代名詞\",\"助詞類接続\"]\n",
    "    if(noun[0] == '名詞'):\n",
    "        if(noun[1] in zyogai):\n",
    "            return False\n",
    "        else:\n",
    "            return True\n",
    "    else:\n",
    "        return False\n",
    "    \n",
    "def getNouns(node):\n",
    "    words = []\n",
    "    word_stack = \"\"\n",
    "    while node:\n",
    "        noun = node.feature.split(\",\")\n",
    "        word = node.surface\n",
    "        if(checkNoun(noun)):\n",
    "            word_stack += word\n",
    "        if(word_stack != \"\" and noun[0] != '名詞'):\n",
    "            if(checkNum(word_stack)):\n",
    "                words.append(word_stack)\n",
    "            word_stack = \"\"\n",
    "        node = node.next\n",
    "    words = \" \".join(words)\n",
    "    return words\n",
    "\n",
    "\n",
    "# 12月 1.2%などの数字関連を省く\n",
    "def checkNum(word_stack):\n",
    "    mt = MeCab.Tagger()\n",
    "    mt.parse(\"\")\n",
    "\n",
    "    node = mt.parseToNode(word_stack)\n",
    "    while node:\n",
    "        noun = node.feature.split(\",\")\n",
    "        if(noun[1] == '数'):\n",
    "            return False\n",
    "        node = node.next\n",
    "\n",
    "    return True\n"
   ]
  },
  {
   "cell_type": "code",
   "execution_count": 4,
   "metadata": {},
   "outputs": [],
   "source": [
    "file_pass = \"./\"\n",
    "#3が自作関数での分割\n",
    "file_name = \"reuters_article\"\n",
    "file_type = \".csv\"\n",
    "dict_list = []\n",
    "# print(dict_list)\n",
    "df = readCSV(file_pass, file_name, file_type)\n",
    "# print(df[\"label\"])\n",
    "body = []\n",
    "label_train = []"
   ]
  },
  {
   "cell_type": "code",
   "execution_count": 5,
   "metadata": {
    "collapsed": true
   },
   "outputs": [],
   "source": [
    "body = [sep(row) for row in df[\"body\"]]"
   ]
  },
  {
   "cell_type": "code",
   "execution_count": 16,
   "metadata": {},
   "outputs": [
    {
     "data": {
      "text/plain": [
       "LatentDirichletAllocation(batch_size=128, doc_topic_prior=None,\n",
       "             evaluate_every=-1, learning_decay=0.7,\n",
       "             learning_method='online', learning_offset=50,\n",
       "             max_doc_update_iter=100, max_iter=5, mean_change_tol=0.001,\n",
       "             n_components=20, n_jobs=1, n_topics=None, perp_tol=0.1,\n",
       "             random_state=0, topic_word_prior=None,\n",
       "             total_samples=1000000.0, verbose=0)"
      ]
     },
     "execution_count": 16,
     "metadata": {},
     "output_type": "execute_result"
    }
   ],
   "source": [
    "tf_vectorizer = CountVectorizer(max_df=0.95, min_df=2, max_features=10000)\n",
    "tf = tf_vectorizer.fit_transform(body)\n",
    "tf_feature_names = tf_vectorizer.get_feature_names()\n",
    "\n",
    "lda = LatentDirichletAllocation(n_components=20, max_iter=5, learning_method='online', learning_offset=50, random_state=0)\n",
    "lda.fit(tf)"
   ]
  },
  {
   "cell_type": "code",
   "execution_count": 19,
   "metadata": {},
   "outputs": [
    {
     "name": "stdout",
     "output_type": "stream",
     "text": [
      "Topic 0:\n",
      "日経平均 東京株式市場 上昇 市場 上値 先行 前場 買い 反発 寄り付き 堅調 国内証券 輸出株 好感 反落 観測 銀行株 軟調 中心 円安\n",
      "Topic 1:\n",
      "赤字 売上高 予想 見通し 利益 発表 同社 黒字 影響 営業利益 計画 好調 社長 業績 減少 下方修正 トムソンロイターエスティメーツ 増加 想定 ロイターエスティメーツ\n",
      "Topic 2:\n",
      "発表 rbs de 社債 pa 前週 ubs vw 入札 vx スイス 拡充 増加 供給 hsbc スウェーデン ポルシェ 明らか 調査 英政府\n",
      "Topic 3:\n",
      "gm クライスラー 明らか 発表 販売 同社 トヨタ 計画 生産 工場 可能性 米ゼネラルモーターズ 方針 発売 自動車メーカー 提携 ceo 販売台数 オペル ゼネラルモーターズ\n",
      "Topic 4:\n",
      "合意 協議 表明 問題 明らか 首相 開催 イラン 提案 会談 会合 予定 必要 要請 主張 批判 協力 決定 オバマ米大統領 新た\n",
      "Topic 5:\n",
      "中国 北朝鮮 米国 韓国 可能性 明らか 発表 確認 同国 人民元 感染 ロシア 中国政府 当局者 期限 中国経済 発射 日本 核実験 報道官\n",
      "Topic 6:\n",
      "政府 民主党 考え 対応 選挙 必要 議論 会見 指摘 日本 強調 政策 政権 認識 国民 財源 予算 自民党 対策 検討\n",
      "Topic 7:\n",
      "減少 発表 予想 生産 上昇 前月 低下 gdp ロイター 増加 水準 大幅 伸び 輸出 改善 悪化 最大 調査 影響 製造業\n",
      "Topic 8:\n",
      "ドル 上昇 ユーロ 下落 高値 取引 原油価格 更新 豪ドル 背景 水準 通貨 安値 米ドル ドル安 原油 米原油先物 opec ポンド 対ユーロ\n",
      "Topic 9:\n",
      "ecb 日本 欧州中央銀行 ドイツ 投資 米国 eu ユーロ圏 世界 欧州 インド 英国 必要 インタビュー ロシア トリシェ総裁 欧州連合 目標 設定 金融サミット\n",
      "Topic 10:\n",
      "金融機関 銀行 損失 可能性 シティ 問題 公的資金 カメ 発表 明らか シティグループ 必要 資本 計上 注入 指摘 bac 破たん 市場 jpm\n",
      "Topic 11:\n",
      "オバマ大統領 大統領 オバマ氏 民主党 オバマ政権 勝利 支持 共和党 指名 米国 獲得 投票 調査 訂正 演説 支持率 マケイン氏 大統領選 過半数 同氏\n",
      "Topic 12:\n",
      "日銀 可能性 指摘 必要 見方 認識 frb リスク 状況 金利 影響 景気 利下げ 維持 金融政策 実施 金融市場 政策金利 世界経済 総裁\n",
      "Topic 13:\n",
      "市場 見方 そう 円高 予想 可能性 ドル 展開 発表 動き 株価 懸念 下落 東京市場 日経平均 注目 期待 米国 決算 材料\n",
      "Topic 14:\n",
      "指摘 見方 可能性 frb 回復 見通し 予想 上昇 景気後退 懸念 経済 米経済 水準 米国 リセッション imf 議長 大幅 金融危機 景気回復\n",
      "Topic 15:\n",
      "jal 発表 出資 強化 検討 方針 発行 普通株 新型インフルエンザ 実施 予定 公募増資 転換 再建 増資 日本航空 ドバイ 優先株 調達 説明\n",
      "Topic 16:\n",
      "政府 必要 支援 財務省 議会 法案 米政府 措置 frb 長官 規模 検討 融資 tarp 発表 景気刺激策 対策 米財務省 計画 明らか\n",
      "Topic 17:\n",
      "海外勢 動き 買い 日本株 日経平均 株式市場 株価 投資家 個人投資家 指摘 上昇 東京市場 市場 短期筋 ヘッジファンド 背景 見方 中心 相場 回復\n",
      "Topic 18:\n",
      "関係筋 明らか 買収 売却 可能性 同社 aig コメント 保有 見通し 発表 合意 ceo 検討 株式 申請 資金 協議 交渉 資産\n",
      "Topic 19:\n",
      "死亡 発生 地震 日本 爆発 拘束 負傷 サーブ 被害 警察 事件 攻撃 北京五輪 衝突 獲得 情報 タイ 事故 死者 自分\n"
     ]
    }
   ],
   "source": [
    "for topic_idx, topic in enumerate(lda.components_):\n",
    "    print(\"Topic %d:\" % (topic_idx))\n",
    "    print(\" \".join([tf_feature_names[i] for i in topic.argsort()[: -21: -1]]))"
   ]
  },
  {
   "cell_type": "code",
   "execution_count": null,
   "metadata": {
    "collapsed": true
   },
   "outputs": [],
   "source": []
  }
 ],
 "metadata": {
  "kernelspec": {
   "display_name": "Python 3",
   "language": "python",
   "name": "python3"
  },
  "language_info": {
   "codemirror_mode": {
    "name": "ipython",
    "version": 3
   },
   "file_extension": ".py",
   "mimetype": "text/x-python",
   "name": "python",
   "nbconvert_exporter": "python",
   "pygments_lexer": "ipython3",
   "version": "3.5.4"
  }
 },
 "nbformat": 4,
 "nbformat_minor": 2
}
