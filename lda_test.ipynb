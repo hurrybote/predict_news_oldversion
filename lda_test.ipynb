{
 "cells": [
  {
   "cell_type": "code",
   "execution_count": 1,
   "metadata": {
    "collapsed": true
   },
   "outputs": [],
   "source": [
    "from sklearn.decomposition import LatentDirichletAllocation\n",
    "from sklearn.datasets import fetch_20newsgroups\n",
    "from sklearn.feature_extraction.text import TfidfVectorizer, CountVectorizer\n",
    "\n",
    "def display_topic(model, feature_names, no_top_words):\n",
    "    for topic_idx, topic in enumerate(model.components):\n",
    "        print(\"Topic %d:\" % (topic_idx))\n",
    "        print(\" \".join([feature_names[i] for i in topic.argsort()[:-no_top_words -1: -1]]))"
   ]
  },
  {
   "cell_type": "code",
   "execution_count": 2,
   "metadata": {},
   "outputs": [
    {
     "name": "stderr",
     "output_type": "stream",
     "text": [
      "Downloading 20news dataset. This may take a few minutes.\n",
      "Downloading dataset from https://ndownloader.figshare.com/files/5975967 (14 MB)\n"
     ]
    }
   ],
   "source": [
    "dataset = fetch_20newsgroups(shuffle=True, random_state=1, remove=('headers', 'footers', 'quotes'))\n",
    "documents = dataset.data"
   ]
  },
  {
   "cell_type": "code",
   "execution_count": 12,
   "metadata": {},
   "outputs": [
    {
     "name": "stdout",
     "output_type": "stream",
     "text": [
      "11314\n"
     ]
    }
   ],
   "source": [
    "print(len(documents))"
   ]
  },
  {
   "cell_type": "code",
   "execution_count": 9,
   "metadata": {},
   "outputs": [
    {
     "data": {
      "text/plain": [
       "LatentDirichletAllocation(batch_size=128, doc_topic_prior=None,\n",
       "             evaluate_every=-1, learning_decay=0.7,\n",
       "             learning_method='online', learning_offset=50,\n",
       "             max_doc_update_iter=100, max_iter=5, mean_change_tol=0.001,\n",
       "             n_components=20, n_jobs=1, n_topics=None, perp_tol=0.1,\n",
       "             random_state=0, topic_word_prior=None,\n",
       "             total_samples=1000000.0, verbose=0)"
      ]
     },
     "execution_count": 9,
     "metadata": {},
     "output_type": "execute_result"
    }
   ],
   "source": [
    "tf_vectorizer = CountVectorizer(max_df=0.95, min_df=2, max_features=1000, stop_words='english')\n",
    "tf = tf_vectorizer.fit_transform(documents)\n",
    "tf_feature_names = tf_vectorizer.get_feature_names()\n",
    "\n",
    "lda = LatentDirichletAllocation(n_components=20, max_iter=5, learning_method='online', learning_offset=50, random_state=0)\n",
    "lda.fit(tf)"
   ]
  },
  {
   "cell_type": "code",
   "execution_count": 11,
   "metadata": {},
   "outputs": [
    {
     "name": "stdout",
     "output_type": "stream",
     "text": [
      "  (0, 703)\t1\n",
      "  (0, 422)\t1\n",
      "  (0, 502)\t1\n",
      "  (0, 554)\t1\n",
      "  (0, 146)\t1\n",
      "  (0, 573)\t1\n",
      "  (0, 424)\t1\n",
      "  (0, 748)\t1\n",
      "  (0, 762)\t1\n",
      "  (0, 229)\t1\n",
      "  (0, 760)\t1\n",
      "  (0, 745)\t1\n",
      "  (0, 897)\t1\n",
      "  (0, 914)\t1\n",
      "  (0, 535)\t1\n",
      "  (0, 444)\t1\n",
      "  (0, 985)\t1\n",
      "  (0, 497)\t2\n",
      "  (0, 714)\t1\n",
      "  (0, 589)\t4\n",
      "  (0, 854)\t1\n",
      "  (0, 303)\t1\n",
      "  (0, 860)\t1\n",
      "  (0, 872)\t1\n",
      "  (1, 321)\t1\n",
      "  :\t:\n",
      "  (11313, 758)\t1\n",
      "  (11313, 747)\t1\n",
      "  (11313, 840)\t1\n",
      "  (11313, 637)\t1\n",
      "  (11313, 210)\t1\n",
      "  (11313, 560)\t1\n",
      "  (11313, 646)\t2\n",
      "  (11313, 529)\t1\n",
      "  (11313, 421)\t3\n",
      "  (11313, 550)\t2\n",
      "  (11313, 773)\t1\n",
      "  (11313, 995)\t1\n",
      "  (11313, 434)\t1\n",
      "  (11313, 931)\t1\n",
      "  (11313, 191)\t1\n",
      "  (11313, 207)\t1\n",
      "  (11313, 954)\t1\n",
      "  (11313, 516)\t1\n",
      "  (11313, 540)\t1\n",
      "  (11313, 321)\t1\n",
      "  (11313, 508)\t2\n",
      "  (11313, 88)\t1\n",
      "  (11313, 359)\t1\n",
      "  (11313, 422)\t1\n",
      "  (11313, 303)\t1\n"
     ]
    }
   ],
   "source": [
    "print(tf)"
   ]
  },
  {
   "cell_type": "code",
   "execution_count": null,
   "metadata": {
    "collapsed": true
   },
   "outputs": [],
   "source": []
  }
 ],
 "metadata": {
  "kernelspec": {
   "display_name": "Python 3",
   "language": "python",
   "name": "python3"
  },
  "language_info": {
   "codemirror_mode": {
    "name": "ipython",
    "version": 3
   },
   "file_extension": ".py",
   "mimetype": "text/x-python",
   "name": "python",
   "nbconvert_exporter": "python",
   "pygments_lexer": "ipython3",
   "version": "3.5.4"
  }
 },
 "nbformat": 4,
 "nbformat_minor": 2
}
